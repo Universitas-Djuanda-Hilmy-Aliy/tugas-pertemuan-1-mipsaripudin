{
  "nbformat": 4,
  "nbformat_minor": 0,
  "metadata": {
    "colab": {
      "provenance": []
    },
    "kernelspec": {
      "name": "python3",
      "display_name": "Python 3"
    },
    "language_info": {
      "name": "python"
    }
  },
  "cells": [
    {
      "cell_type": "markdown",
      "source": [
        "Sigma (Penjumlahan)"
      ],
      "metadata": {
        "id": "Ao13rE4rQRbb"
      }
    },
    {
      "cell_type": "markdown",
      "source": [
        "$$\n",
        "\\sum_{i=1}^{100} 2^{2i+1}.\n",
        "$$"
      ],
      "metadata": {
        "id": "K9JgRRo8O5MC"
      }
    },
    {
      "cell_type": "code",
      "execution_count": 2,
      "metadata": {
        "id": "oaXc3e-3LVNR",
        "colab": {
          "base_uri": "https://localhost:8080/"
        },
        "outputId": "e485198f-8792-48ad-838f-d7e23e02a453"
      },
      "outputs": [
        {
          "output_type": "stream",
          "name": "stdout",
          "text": [
            "Hasil penjumlahan dari ∑i=1^(11002) (i + 1) adalah: 60538505\n"
          ]
        }
      ],
      "source": [
        "def hitung_jumlah():\n",
        "    jumlah = 0\n",
        "    for i in range(1, 11003):\n",
        "        jumlah += i + 1\n",
        "    return jumlah\n",
        "\n",
        "# Panggil fungsi dan cetak hasilnya\n",
        "hasil_jumlah = hitung_jumlah()\n",
        "print(f\"Hasil penjumlahan dari ∑i=1^(11002) (i + 1) adalah: {hasil_jumlah}\")\n"
      ]
    },
    {
      "cell_type": "markdown",
      "source": [
        "Pi (Perkalian)"
      ],
      "metadata": {
        "id": "ltaIA_FZQVZY"
      }
    },
    {
      "cell_type": "markdown",
      "source": [
        "$$\n",
        "\\prod_{j=1}^{50} 2j+2.\n",
        "$$"
      ],
      "metadata": {
        "id": "wrQq8fU2PWyY"
      }
    },
    {
      "cell_type": "code",
      "source": [
        "def hitung_produk():\n",
        "    hasil = 1\n",
        "    for j in range(1, 503):\n",
        "        hasil *= (j + 2)\n",
        "    return hasil\n",
        "\n",
        "# Panggil fungsi dan cetak hasilnya\n",
        "hasil_perkalian = hitung_produk()\n",
        "print(f\"Hasil perkalian dari ∏j=1^(502) (j + 2) adalah: {hasil_perkalian}\")\n"
      ],
      "metadata": {
        "id": "K4OB2TW9PWYx",
        "colab": {
          "base_uri": "https://localhost:8080/"
        },
        "outputId": "3d51c862-edc1-4b3f-b61a-51e5d70561f9"
      },
      "execution_count": 1,
      "outputs": [
        {
          "output_type": "stream",
          "name": "stdout",
          "text": [
            "Hasil perkalian dari ∏j=1^(502) (j + 2) adalah: 38897214693432311347171733794945529817798182849323712967116616450726827226484845808786277351062102896309172379807555874714211656600345560932730264265310679993760289600772937671559148494419641250481962231222807045910531594032559044151636470223568773178703475536259994325701234852921146627271532301978016010234460205371735134176121319539124246683258768307846556479298538544919341767269221797858955212198206476871187191137260997785239271471819497441502227652635005142086731453019683280724467378623330966481438560627949685893787121116762878068518894468435116957955057644514334241278984315479528509222049854218313659910426527997167033945372381493261494203689849947735258099718902818584766684038790424134853810475215061433145144985256553242234253317144689360124693978967965251995649592520607193718684603700036757031162393605097508248809443435590779828856367446546223061645367083721389032140753485407733124425371148438666941142547335913508872266678151652968677934640233862584593618926321785653865112088665367520479361355145543680000000000000000000000000000000000000000000000000000000000000000000000000000000000000000000000000000000000000000000000000000\n"
          ]
        }
      ]
    },
    {
      "cell_type": "markdown",
      "source": [
        "Faktorial"
      ],
      "metadata": {
        "id": "FeJ78alMQ2Ey"
      }
    },
    {
      "cell_type": "markdown",
      "source": [
        "$$\n",
        "10!\n",
        "$$"
      ],
      "metadata": {
        "id": "rEgK4ed0Qyx2"
      }
    },
    {
      "cell_type": "code",
      "source": [
        "def faktorial(n):\n",
        "    if n == 0:\n",
        "        return 1\n",
        "    else:\n",
        "        return n * faktorial(n - 1)\n",
        "\n",
        "angka = 10\n",
        "hasil_faktorial = faktorial(angka)\n",
        "print(f\"Faktorial dari {angka} adalah: {hasil_faktorial}\")\n"
      ],
      "metadata": {
        "id": "Mh53IlGdO63e",
        "colab": {
          "base_uri": "https://localhost:8080/"
        },
        "outputId": "6cc5f6a0-9d71-447c-f537-101386e58a5e"
      },
      "execution_count": 3,
      "outputs": [
        {
          "output_type": "stream",
          "name": "stdout",
          "text": [
            "Faktorial dari 10 adalah: 3628800\n"
          ]
        }
      ]
    },
    {
      "cell_type": "markdown",
      "source": [
        "Absolute"
      ],
      "metadata": {
        "id": "smklrzDSRMrq"
      }
    },
    {
      "cell_type": "markdown",
      "source": [
        "$$\n",
        "f(x) = |2x-1|,\n",
        "f(-100)=\n",
        "$$"
      ],
      "metadata": {
        "id": "9QqR9YkrQ-US"
      }
    },
    {
      "cell_type": "code",
      "source": [
        "def hitung_nilai_f(x):\n",
        "    return abs(2 * x - 1)\n",
        "\n",
        "# Hitung nilai f(-100)\n",
        "x = -100\n",
        "nilai_f = hitung_nilai_f(x)\n",
        "print(f\"Nilai f({x}) = {nilai_f}\")\n"
      ],
      "metadata": {
        "id": "8ZWZXhrZRMNZ",
        "colab": {
          "base_uri": "https://localhost:8080/"
        },
        "outputId": "3d72a880-406e-44bc-c064-4ca27ebaf62b"
      },
      "execution_count": 4,
      "outputs": [
        {
          "output_type": "stream",
          "name": "stdout",
          "text": [
            "Nilai f(-100) = 201\n"
          ]
        }
      ]
    },
    {
      "cell_type": "markdown",
      "source": [
        "Fungsi Sepotong-sepotong (Piecewise Function)"
      ],
      "metadata": {
        "id": "M3guYUWsScnY"
      }
    },
    {
      "cell_type": "markdown",
      "source": [
        "$$\n",
        "f(x)=\n",
        "\\begin{cases}\n",
        "x^{2} & \\text{x < 0}, \\\\\n",
        "x+2 & \\text{x >= 0}.\n",
        "\\end{cases}\n",
        "f(3)=\n",
        "$$"
      ],
      "metadata": {
        "id": "sd7LZl_JRlDE"
      }
    },
    {
      "cell_type": "code",
      "source": [
        "def hitung_nilai_f(x):\n",
        "    return abs(2 * x - 1)\n",
        "\n",
        "# Hitung nilai f(-100)\n",
        "x = -100\n",
        "nilai_f = hitung_nilai_f(x)\n",
        "print(f\"Nilai f({x}) = {nilai_f}\")\n",
        "\n",
        "def hitung_nilai_f(x):\n",
        "    if x < 0:\n",
        "        return math.exp(x**2) + x\n",
        "    else:\n",
        "        return a*x + b\n",
        "\n",
        "# Tentukan nilai a dan b\n",
        "a = 0\n",
        "b = 1\n",
        "\n",
        "# Hitung nilai f(3)\n",
        "x = 3\n",
        "nilai_f = hitung_nilai_f(x)\n",
        "print(f\"Nilai f({x}) = {nilai_f}\")\n"
      ],
      "metadata": {
        "id": "dS7XjBWlRv8W",
        "colab": {
          "base_uri": "https://localhost:8080/"
        },
        "outputId": "741d0e86-d54c-46eb-d56b-b0ab7c41e752"
      },
      "execution_count": 5,
      "outputs": [
        {
          "output_type": "stream",
          "name": "stdout",
          "text": [
            "Nilai f(-100) = 201\n",
            "Nilai f(3) = 1\n"
          ]
        }
      ]
    },
    {
      "cell_type": "markdown",
      "source": [
        "Matrix"
      ],
      "metadata": {
        "id": "VvfDI7hNVUoN"
      }
    },
    {
      "cell_type": "markdown",
      "source": [
        "\n",
        "$$\n",
        "\\begin{bmatrix}\n",
        "2 & 3 \\\\\n",
        "1 & 5\n",
        "\\end{bmatrix}\n",
        "*\n",
        "\\begin{bmatrix}\n",
        "7 & 0.5 \\\\\n",
        "4 & 0\n",
        "\\end{bmatrix}\n",
        "$$"
      ],
      "metadata": {
        "id": "JLh40-aAVrSI"
      }
    },
    {
      "cell_type": "code",
      "source": [
        "import numpy as np\n",
        "\n",
        "# Definisikan matriks A\n",
        "A = np.array([[2, 3],\n",
        "              [1, 5]])\n",
        "\n",
        "# Definisikan matriks B\n",
        "B = np.array([[7, 0.5],\n",
        "              [4, 0]])\n",
        "\n",
        "# Hitung perkalian matriks C = A * B\n",
        "C = np.dot(A, B)\n",
        "\n",
        "# Cetak hasil\n",
        "print(\"Matriks C:\")\n",
        "print(C)\n"
      ],
      "metadata": {
        "id": "L9rh8MqEVr3n",
        "colab": {
          "base_uri": "https://localhost:8080/"
        },
        "outputId": "665c98ec-42e7-4a72-d9db-862b545ff086"
      },
      "execution_count": 7,
      "outputs": [
        {
          "output_type": "stream",
          "name": "stdout",
          "text": [
            "Matriks C:\n",
            "[[26.   1. ]\n",
            " [27.   0.5]]\n"
          ]
        }
      ]
    }
  ]
}